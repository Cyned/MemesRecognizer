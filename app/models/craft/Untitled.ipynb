{
 "cells": [
  {
   "cell_type": "markdown",
   "metadata": {},
   "source": [
    "Text crop"
   ]
  },
  {
   "cell_type": "code",
   "execution_count": 149,
   "metadata": {},
   "outputs": [],
   "source": [
    "def crop_rectangle(coord_list):\n",
    "    x1 = min([j for i,j in enumerate(coord_list) if i%2==0])\n",
    "    x2 = max([j for i,j in enumerate(coord_list) if i%2==0])\n",
    "    \n",
    "    y1 = min([j for i,j in enumerate(coord_list) if i%2==1])\n",
    "    y2 = max([j for i,j in enumerate(coord_list) if i%2==1])\n",
    "    return x1, y1, x2, y2"
   ]
  },
  {
   "cell_type": "code",
   "execution_count": 150,
   "metadata": {},
   "outputs": [],
   "source": [
    "with open('result/res_0Zgnnc3.txt', 'r') as f:\n",
    "    coord_file = f.read()"
   ]
  },
  {
   "cell_type": "code",
   "execution_count": 151,
   "metadata": {},
   "outputs": [],
   "source": [
    "coord_list = [i.split(',') for i in coord_file.split('\\n')]\n",
    "coord_list = coord_list[:-1]"
   ]
  },
  {
   "cell_type": "code",
   "execution_count": 152,
   "metadata": {},
   "outputs": [],
   "source": [
    "coord_list1 = [crop_rectangle(i) for i in coord_list]\n",
    "coord_list1 = [tuple(int(i) for i in j) for j in coord_list1]"
   ]
  },
  {
   "cell_type": "code",
   "execution_count": 153,
   "metadata": {},
   "outputs": [
    {
     "data": {
      "text/plain": [
       "[(168, 14, 402, 68),\n",
       " (152, 128, 318, 219),\n",
       " (318, 123, 503, 319),\n",
       " (113, 281, 145, 322),\n",
       " (106, 325, 176, 405),\n",
       " (301, 363, 476, 500),\n",
       " (148, 388, 300, 492),\n",
       " (132, 513, 310, 564),\n",
       " (314, 513, 430, 564)]"
      ]
     },
     "execution_count": 153,
     "metadata": {},
     "output_type": "execute_result"
    }
   ],
   "source": [
    "coord_list1"
   ]
  },
  {
   "cell_type": "code",
   "execution_count": 157,
   "metadata": {},
   "outputs": [],
   "source": [
    "index = 0\n",
    "images_paht = []\n",
    "for i in coord_list1:\n",
    "    cropped_img = img.crop(i)\n",
    "    path = f'test_save/{index}.jpg'\n",
    "    cropped_img.save(path)\n",
    "    images_paht.append(path)\n",
    "    index += 1"
   ]
  },
  {
   "cell_type": "code",
   "execution_count": null,
   "metadata": {},
   "outputs": [],
   "source": [
    "# todo\n",
    "\n",
    "# area = (318, 164, 503, 278)\n",
    "# cropped_img = img.crop(area)\n",
    "# cropped_img.show()\n",
    "\n",
    "# p1 = (318 , 164)  \n",
    "# p2 = (364 , 123)\n",
    "# p3 = (503 , 278)  \n",
    "# p4 = (458 , 319)\n",
    "\n",
    "# cropped_img.show()\n",
    "# img.rotate(63)"
   ]
  },
  {
   "cell_type": "code",
   "execution_count": null,
   "metadata": {},
   "outputs": [],
   "source": []
  },
  {
   "cell_type": "markdown",
   "metadata": {},
   "source": [
    "Text recognition"
   ]
  },
  {
   "cell_type": "code",
   "execution_count": 4,
   "metadata": {},
   "outputs": [],
   "source": [
    "from PIL import Image\n",
    "import math\n",
    "\n",
    "\n",
    "def image_handler(path_to_img):\n",
    "    img = Image.open(path_to_img)\n",
    "    img.show()\n",
    "    \n",
    "    \n",
    "\n",
    "image_handler(\"image/0Zgnnc3.jpg\")"
   ]
  },
  {
   "cell_type": "code",
   "execution_count": null,
   "metadata": {},
   "outputs": [],
   "source": [
    "    "
   ]
  }
 ],
 "metadata": {
  "kernelspec": {
   "display_name": "Python 3",
   "language": "python",
   "name": "python3"
  },
  "language_info": {
   "codemirror_mode": {
    "name": "ipython",
    "version": 3
   },
   "file_extension": ".py",
   "mimetype": "text/x-python",
   "name": "python",
   "nbconvert_exporter": "python",
   "pygments_lexer": "ipython3",
   "version": "3.6.8"
  }
 },
 "nbformat": 4,
 "nbformat_minor": 2
}
